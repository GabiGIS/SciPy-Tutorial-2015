{
 "cells": [
  {
   "cell_type": "markdown",
   "metadata": {},
   "source": [
    "# Working with GeoDataFrames"
   ]
  },
  {
   "cell_type": "code",
   "execution_count": 1,
   "metadata": {
    "collapsed": false
   },
   "outputs": [],
   "source": [
    "%matplotlib inline\n",
    "import numpy as np\n",
    "import matplotlib.pyplot as plt\n",
    "from geopandas import GeoSeries, GeoDataFrame, read_file\n",
    "from shapely.geometry import Point\n",
    "from pandas import Series"
   ]
  },
  {
   "cell_type": "markdown",
   "metadata": {},
   "source": [
    "NYC borough boundaries downloaded from [Bytes of the Big Apple](http://www.nyc.gov/html/dcp/download/bytes/nybb_13a.zip)"
   ]
  },
  {
   "cell_type": "code",
   "execution_count": 2,
   "metadata": {
    "collapsed": false
   },
   "outputs": [
    {
     "data": {
      "text/html": [
       "<div style=\"max-height:1000px;max-width:1500px;overflow:auto;\">\n",
       "<table border=\"1\" class=\"dataframe\">\n",
       "  <thead>\n",
       "    <tr style=\"text-align: right;\">\n",
       "      <th></th>\n",
       "      <th>BoroCode</th>\n",
       "      <th>BoroName</th>\n",
       "      <th>Shape_Area</th>\n",
       "      <th>Shape_Leng</th>\n",
       "      <th>geometry</th>\n",
       "    </tr>\n",
       "  </thead>\n",
       "  <tbody>\n",
       "    <tr>\n",
       "      <th>0</th>\n",
       "      <td> 5</td>\n",
       "      <td> Staten Island</td>\n",
       "      <td> 1.623827e+09</td>\n",
       "      <td> 330466.075042</td>\n",
       "      <td> (POLYGON ((970217.0223999023 145643.3322143555...</td>\n",
       "    </tr>\n",
       "    <tr>\n",
       "      <th>1</th>\n",
       "      <td> 3</td>\n",
       "      <td>      Brooklyn</td>\n",
       "      <td> 1.937597e+09</td>\n",
       "      <td> 741185.900596</td>\n",
       "      <td> (POLYGON ((1021176.479003906 151374.7969970703...</td>\n",
       "    </tr>\n",
       "    <tr>\n",
       "      <th>2</th>\n",
       "      <td> 4</td>\n",
       "      <td>        Queens</td>\n",
       "      <td> 3.045168e+09</td>\n",
       "      <td> 897040.298576</td>\n",
       "      <td> (POLYGON ((1029606.076599121 156073.8142089844...</td>\n",
       "    </tr>\n",
       "    <tr>\n",
       "      <th>3</th>\n",
       "      <td> 1</td>\n",
       "      <td>     Manhattan</td>\n",
       "      <td> 6.364467e+08</td>\n",
       "      <td> 358408.460709</td>\n",
       "      <td> (POLYGON ((981219.0557861328 188655.3157958984...</td>\n",
       "    </tr>\n",
       "    <tr>\n",
       "      <th>4</th>\n",
       "      <td> 2</td>\n",
       "      <td>         Bronx</td>\n",
       "      <td> 1.186973e+09</td>\n",
       "      <td> 464400.198868</td>\n",
       "      <td> (POLYGON ((1012821.805786133 229228.2645874023...</td>\n",
       "    </tr>\n",
       "  </tbody>\n",
       "</table>\n",
       "</div>"
      ],
      "text/plain": [
       "   BoroCode       BoroName    Shape_Area     Shape_Leng  \\\n",
       "0         5  Staten Island  1.623827e+09  330466.075042   \n",
       "1         3       Brooklyn  1.937597e+09  741185.900596   \n",
       "2         4         Queens  3.045168e+09  897040.298576   \n",
       "3         1      Manhattan  6.364467e+08  358408.460709   \n",
       "4         2          Bronx  1.186973e+09  464400.198868   \n",
       "\n",
       "                                            geometry  \n",
       "0  (POLYGON ((970217.0223999023 145643.3322143555...  \n",
       "1  (POLYGON ((1021176.479003906 151374.7969970703...  \n",
       "2  (POLYGON ((1029606.076599121 156073.8142089844...  \n",
       "3  (POLYGON ((981219.0557861328 188655.3157958984...  \n",
       "4  (POLYGON ((1012821.805786133 229228.2645874023...  "
      ]
     },
     "execution_count": 2,
     "metadata": {},
     "output_type": "execute_result"
    }
   ],
   "source": [
    "boros = read_file('/nybb_15b/nybb.shp', vfs='zip://nybb_15b.zip')\n",
    "boros"
   ]
  },
  {
   "cell_type": "code",
   "execution_count": 3,
   "metadata": {
    "collapsed": false
   },
   "outputs": [
    {
     "data": {
      "text/html": [
       "<div style=\"max-height:1000px;max-width:1500px;overflow:auto;\">\n",
       "<table border=\"1\" class=\"dataframe\">\n",
       "  <thead>\n",
       "    <tr style=\"text-align: right;\">\n",
       "      <th></th>\n",
       "      <th>BoroName</th>\n",
       "      <th>Shape_Area</th>\n",
       "      <th>Shape_Leng</th>\n",
       "      <th>geometry</th>\n",
       "    </tr>\n",
       "    <tr>\n",
       "      <th>BoroCode</th>\n",
       "      <th></th>\n",
       "      <th></th>\n",
       "      <th></th>\n",
       "      <th></th>\n",
       "    </tr>\n",
       "  </thead>\n",
       "  <tbody>\n",
       "    <tr>\n",
       "      <th>1</th>\n",
       "      <td>     Manhattan</td>\n",
       "      <td> 6.364467e+08</td>\n",
       "      <td> 358408.460709</td>\n",
       "      <td> (POLYGON ((981219.0557861328 188655.3157958984...</td>\n",
       "    </tr>\n",
       "    <tr>\n",
       "      <th>2</th>\n",
       "      <td>         Bronx</td>\n",
       "      <td> 1.186973e+09</td>\n",
       "      <td> 464400.198868</td>\n",
       "      <td> (POLYGON ((1012821.805786133 229228.2645874023...</td>\n",
       "    </tr>\n",
       "    <tr>\n",
       "      <th>3</th>\n",
       "      <td>      Brooklyn</td>\n",
       "      <td> 1.937597e+09</td>\n",
       "      <td> 741185.900596</td>\n",
       "      <td> (POLYGON ((1021176.479003906 151374.7969970703...</td>\n",
       "    </tr>\n",
       "    <tr>\n",
       "      <th>4</th>\n",
       "      <td>        Queens</td>\n",
       "      <td> 3.045168e+09</td>\n",
       "      <td> 897040.298576</td>\n",
       "      <td> (POLYGON ((1029606.076599121 156073.8142089844...</td>\n",
       "    </tr>\n",
       "    <tr>\n",
       "      <th>5</th>\n",
       "      <td> Staten Island</td>\n",
       "      <td> 1.623827e+09</td>\n",
       "      <td> 330466.075042</td>\n",
       "      <td> (POLYGON ((970217.0223999023 145643.3322143555...</td>\n",
       "    </tr>\n",
       "  </tbody>\n",
       "</table>\n",
       "</div>"
      ],
      "text/plain": [
       "               BoroName    Shape_Area     Shape_Leng  \\\n",
       "BoroCode                                               \n",
       "1             Manhattan  6.364467e+08  358408.460709   \n",
       "2                 Bronx  1.186973e+09  464400.198868   \n",
       "3              Brooklyn  1.937597e+09  741185.900596   \n",
       "4                Queens  3.045168e+09  897040.298576   \n",
       "5         Staten Island  1.623827e+09  330466.075042   \n",
       "\n",
       "                                                   geometry  \n",
       "BoroCode                                                     \n",
       "1         (POLYGON ((981219.0557861328 188655.3157958984...  \n",
       "2         (POLYGON ((1012821.805786133 229228.2645874023...  \n",
       "3         (POLYGON ((1021176.479003906 151374.7969970703...  \n",
       "4         (POLYGON ((1029606.076599121 156073.8142089844...  \n",
       "5         (POLYGON ((970217.0223999023 145643.3322143555...  "
      ]
     },
     "execution_count": 3,
     "metadata": {},
     "output_type": "execute_result"
    }
   ],
   "source": [
    "boros.set_index('BoroCode', inplace=True)\n",
    "boros.sort(inplace=True)\n",
    "boros"
   ]
  },
  {
   "cell_type": "code",
   "execution_count": 4,
   "metadata": {
    "collapsed": false
   },
   "outputs": [],
   "source": [
    "boros.reset_index(inplace=True)\n",
    "boros.set_index('BoroName', inplace=True)"
   ]
  },
  {
   "cell_type": "code",
   "execution_count": 5,
   "metadata": {
    "collapsed": false
   },
   "outputs": [
    {
     "data": {
      "text/plain": [
       "<matplotlib.axes._subplots.AxesSubplot at 0x1151aea90>"
      ]
     },
     "execution_count": 5,
     "metadata": {},
     "output_type": "execute_result"
    },
    {
     "data": {
      "image/png": "[encoded data removed]",
      "text/plain": [
       "<matplotlib.figure.Figure at 0x1041abe90>"
      ]
     },
     "metadata": {},
     "output_type": "display_data"
    }
   ],
   "source": [
    "boros.plot()"
   ]
  },
  {
   "cell_type": "code",
   "execution_count": 6,
   "metadata": {
    "collapsed": false
   },
   "outputs": [
    {
     "data": {
      "text/plain": [
       "<matplotlib.axes._subplots.AxesSubplot at 0x1151aed90>"
      ]
     },
     "execution_count": 6,
     "metadata": {},
     "output_type": "execute_result"
    },
    {
     "data": {
      "image/png": "[encoded data removed]",
      "text/plain": [
       "<matplotlib.figure.Figure at 0x1169bdd90>"
      ]
     },
     "metadata": {},
     "output_type": "display_data"
    }
   ],
   "source": [
    "boros.plot(alpha=0.0)\n",
    "boros.geometry.convex_hull.plot()"
   ]
  },
  {
   "cell_type": "code",
   "execution_count": 7,
   "metadata": {
    "collapsed": false
   },
   "outputs": [
    {
     "data": {
      "text/plain": [
       "<matplotlib.axes._subplots.AxesSubplot at 0x1169bd610>"
      ]
     },
     "execution_count": 7,
     "metadata": {},
     "output_type": "execute_result"
    },
    {
     "data": {
      "image/png": "[encoded data removed]",
      "text/plain": [
       "<matplotlib.figure.Figure at 0x1177790d0>"
      ]
     },
     "metadata": {},
     "output_type": "display_data"
    }
   ],
   "source": [
    "eroded = boros.geometry.buffer(-5280)\n",
    "boros.plot(alpha=0.0)\n",
    "eroded.plot()"
   ]
  },
  {
   "cell_type": "code",
   "execution_count": 8,
   "metadata": {
    "collapsed": false
   },
   "outputs": [
    {
     "data": {
      "text/plain": [
       "BoroName\n",
       "Manhattan        1.128785e+07\n",
       "Bronx            3.371876e+08\n",
       "Brooklyn         6.711072e+08\n",
       "Queens           1.301421e+09\n",
       "Staten Island    7.263977e+08\n",
       "dtype: float64"
      ]
     },
     "execution_count": 8,
     "metadata": {},
     "output_type": "execute_result"
    }
   ],
   "source": [
    "eroded.area"
   ]
  },
  {
   "cell_type": "code",
   "execution_count": 9,
   "metadata": {
    "collapsed": false
   },
   "outputs": [
    {
     "data": {
      "text/plain": [
       "BoroName\n",
       "Manhattan        6.364464e+08\n",
       "Bronx            1.186974e+09\n",
       "Brooklyn         1.937596e+09\n",
       "Queens           3.045168e+09\n",
       "Staten Island    1.623829e+09\n",
       "dtype: float64"
      ]
     },
     "execution_count": 9,
     "metadata": {},
     "output_type": "execute_result"
    }
   ],
   "source": [
    "boros.geometry.area"
   ]
  },
  {
   "cell_type": "code",
   "execution_count": 10,
   "metadata": {
    "collapsed": false
   },
   "outputs": [],
   "source": [
    "inland = 100.0 * eroded.area / boros.geometry.area"
   ]
  },
  {
   "cell_type": "code",
   "execution_count": 11,
   "metadata": {
    "collapsed": false
   },
   "outputs": [],
   "source": [
    "boros['inland_fraction'] = inland"
   ]
  },
  {
   "cell_type": "code",
   "execution_count": 12,
   "metadata": {
    "collapsed": false
   },
   "outputs": [
    {
     "data": {
      "text/html": [
       "<div style=\"max-height:1000px;max-width:1500px;overflow:auto;\">\n",
       "<table border=\"1\" class=\"dataframe\">\n",
       "  <thead>\n",
       "    <tr style=\"text-align: right;\">\n",
       "      <th></th>\n",
       "      <th>BoroCode</th>\n",
       "      <th>Shape_Area</th>\n",
       "      <th>Shape_Leng</th>\n",
       "      <th>geometry</th>\n",
       "      <th>inland_fraction</th>\n",
       "    </tr>\n",
       "    <tr>\n",
       "      <th>BoroName</th>\n",
       "      <th></th>\n",
       "      <th></th>\n",
       "      <th></th>\n",
       "      <th></th>\n",
       "      <th></th>\n",
       "    </tr>\n",
       "  </thead>\n",
       "  <tbody>\n",
       "    <tr>\n",
       "      <th>Manhattan</th>\n",
       "      <td> 1</td>\n",
       "      <td> 6.364467e+08</td>\n",
       "      <td> 358408.460709</td>\n",
       "      <td> (POLYGON ((981219.0557861328 188655.3157958984...</td>\n",
       "      <td>  1.773574</td>\n",
       "    </tr>\n",
       "    <tr>\n",
       "      <th>Bronx</th>\n",
       "      <td> 2</td>\n",
       "      <td> 1.186973e+09</td>\n",
       "      <td> 464400.198868</td>\n",
       "      <td> (POLYGON ((1012821.805786133 229228.2645874023...</td>\n",
       "      <td> 28.407326</td>\n",
       "    </tr>\n",
       "    <tr>\n",
       "      <th>Brooklyn</th>\n",
       "      <td> 3</td>\n",
       "      <td> 1.937597e+09</td>\n",
       "      <td> 741185.900596</td>\n",
       "      <td> (POLYGON ((1021176.479003906 151374.7969970703...</td>\n",
       "      <td> 34.636066</td>\n",
       "    </tr>\n",
       "    <tr>\n",
       "      <th>Queens</th>\n",
       "      <td> 4</td>\n",
       "      <td> 3.045168e+09</td>\n",
       "      <td> 897040.298576</td>\n",
       "      <td> (POLYGON ((1029606.076599121 156073.8142089844...</td>\n",
       "      <td> 42.737251</td>\n",
       "    </tr>\n",
       "    <tr>\n",
       "      <th>Staten Island</th>\n",
       "      <td> 5</td>\n",
       "      <td> 1.623827e+09</td>\n",
       "      <td> 330466.075042</td>\n",
       "      <td> (POLYGON ((970217.0223999023 145643.3322143555...</td>\n",
       "      <td> 44.733620</td>\n",
       "    </tr>\n",
       "  </tbody>\n",
       "</table>\n",
       "</div>"
      ],
      "text/plain": [
       "               BoroCode    Shape_Area     Shape_Leng  \\\n",
       "BoroName                                               \n",
       "Manhattan             1  6.364467e+08  358408.460709   \n",
       "Bronx                 2  1.186973e+09  464400.198868   \n",
       "Brooklyn              3  1.937597e+09  741185.900596   \n",
       "Queens                4  3.045168e+09  897040.298576   \n",
       "Staten Island         5  1.623827e+09  330466.075042   \n",
       "\n",
       "                                                        geometry  \\\n",
       "BoroName                                                           \n",
       "Manhattan      (POLYGON ((981219.0557861328 188655.3157958984...   \n",
       "Bronx          (POLYGON ((1012821.805786133 229228.2645874023...   \n",
       "Brooklyn       (POLYGON ((1021176.479003906 151374.7969970703...   \n",
       "Queens         (POLYGON ((1029606.076599121 156073.8142089844...   \n",
       "Staten Island  (POLYGON ((970217.0223999023 145643.3322143555...   \n",
       "\n",
       "               inland_fraction  \n",
       "BoroName                        \n",
       "Manhattan             1.773574  \n",
       "Bronx                28.407326  \n",
       "Brooklyn             34.636066  \n",
       "Queens               42.737251  \n",
       "Staten Island        44.733620  "
      ]
     },
     "execution_count": 12,
     "metadata": {},
     "output_type": "execute_result"
    }
   ],
   "source": [
    "boros"
   ]
  },
  {
   "cell_type": "markdown",
   "metadata": {},
   "source": [
    "Let's create a normal pandas `Series` with population values for each borough from the 2010 census."
   ]
  },
  {
   "cell_type": "code",
   "execution_count": 13,
   "metadata": {
    "collapsed": false
   },
   "outputs": [
    {
     "data": {
      "text/plain": [
       "Bronx            1385108\n",
       "Brooklyn         2504700\n",
       "Manhattan        1585873\n",
       "Queens           2230722\n",
       "Staten Island     468730\n",
       "dtype: int64"
      ]
     },
     "execution_count": 13,
     "metadata": {},
     "output_type": "execute_result"
    }
   ],
   "source": [
    "population = Series({'Manhattan': 1585873, 'Bronx': 1385108, 'Brooklyn': 2504700,\n",
    "                     'Queens': 2230722, 'Staten Island': 468730})\n",
    "population"
   ]
  },
  {
   "cell_type": "code",
   "execution_count": 14,
   "metadata": {
    "collapsed": false
   },
   "outputs": [
    {
     "data": {
      "text/html": [
       "<div style=\"max-height:1000px;max-width:1500px;overflow:auto;\">\n",
       "<table border=\"1\" class=\"dataframe\">\n",
       "  <thead>\n",
       "    <tr style=\"text-align: right;\">\n",
       "      <th></th>\n",
       "      <th>BoroCode</th>\n",
       "      <th>Shape_Area</th>\n",
       "      <th>Shape_Leng</th>\n",
       "      <th>geometry</th>\n",
       "      <th>inland_fraction</th>\n",
       "      <th>population</th>\n",
       "    </tr>\n",
       "    <tr>\n",
       "      <th>BoroName</th>\n",
       "      <th></th>\n",
       "      <th></th>\n",
       "      <th></th>\n",
       "      <th></th>\n",
       "      <th></th>\n",
       "      <th></th>\n",
       "    </tr>\n",
       "  </thead>\n",
       "  <tbody>\n",
       "    <tr>\n",
       "      <th>Manhattan</th>\n",
       "      <td> 1</td>\n",
       "      <td> 6.364467e+08</td>\n",
       "      <td> 358408.460709</td>\n",
       "      <td> (POLYGON ((981219.0557861328 188655.3157958984...</td>\n",
       "      <td>  1.773574</td>\n",
       "      <td> 1585873</td>\n",
       "    </tr>\n",
       "    <tr>\n",
       "      <th>Bronx</th>\n",
       "      <td> 2</td>\n",
       "      <td> 1.186973e+09</td>\n",
       "      <td> 464400.198868</td>\n",
       "      <td> (POLYGON ((1012821.805786133 229228.2645874023...</td>\n",
       "      <td> 28.407326</td>\n",
       "      <td> 1385108</td>\n",
       "    </tr>\n",
       "    <tr>\n",
       "      <th>Brooklyn</th>\n",
       "      <td> 3</td>\n",
       "      <td> 1.937597e+09</td>\n",
       "      <td> 741185.900596</td>\n",
       "      <td> (POLYGON ((1021176.479003906 151374.7969970703...</td>\n",
       "      <td> 34.636066</td>\n",
       "      <td> 2504700</td>\n",
       "    </tr>\n",
       "    <tr>\n",
       "      <th>Queens</th>\n",
       "      <td> 4</td>\n",
       "      <td> 3.045168e+09</td>\n",
       "      <td> 897040.298576</td>\n",
       "      <td> (POLYGON ((1029606.076599121 156073.8142089844...</td>\n",
       "      <td> 42.737251</td>\n",
       "      <td> 2230722</td>\n",
       "    </tr>\n",
       "    <tr>\n",
       "      <th>Staten Island</th>\n",
       "      <td> 5</td>\n",
       "      <td> 1.623827e+09</td>\n",
       "      <td> 330466.075042</td>\n",
       "      <td> (POLYGON ((970217.0223999023 145643.3322143555...</td>\n",
       "      <td> 44.733620</td>\n",
       "      <td>  468730</td>\n",
       "    </tr>\n",
       "  </tbody>\n",
       "</table>\n",
       "</div>"
      ],
      "text/plain": [
       "               BoroCode    Shape_Area     Shape_Leng  \\\n",
       "BoroName                                               \n",
       "Manhattan             1  6.364467e+08  358408.460709   \n",
       "Bronx                 2  1.186973e+09  464400.198868   \n",
       "Brooklyn              3  1.937597e+09  741185.900596   \n",
       "Queens                4  3.045168e+09  897040.298576   \n",
       "Staten Island         5  1.623827e+09  330466.075042   \n",
       "\n",
       "                                                        geometry  \\\n",
       "BoroName                                                           \n",
       "Manhattan      (POLYGON ((981219.0557861328 188655.3157958984...   \n",
       "Bronx          (POLYGON ((1012821.805786133 229228.2645874023...   \n",
       "Brooklyn       (POLYGON ((1021176.479003906 151374.7969970703...   \n",
       "Queens         (POLYGON ((1029606.076599121 156073.8142089844...   \n",
       "Staten Island  (POLYGON ((970217.0223999023 145643.3322143555...   \n",
       "\n",
       "               inland_fraction  population  \n",
       "BoroName                                    \n",
       "Manhattan             1.773574     1585873  \n",
       "Bronx                28.407326     1385108  \n",
       "Brooklyn             34.636066     2504700  \n",
       "Queens               42.737251     2230722  \n",
       "Staten Island        44.733620      468730  "
      ]
     },
     "execution_count": 14,
     "metadata": {},
     "output_type": "execute_result"
    }
   ],
   "source": [
    "boros['population'] = population\n",
    "boros"
   ]
  },
  {
   "cell_type": "code",
   "execution_count": 15,
   "metadata": {
    "collapsed": false
   },
   "outputs": [],
   "source": [
    "boros['pop_density'] = boros['population'] / boros.geometry.area * 5280 ** 2"
   ]
  },
  {
   "cell_type": "code",
   "execution_count": 16,
   "metadata": {
    "collapsed": false
   },
   "outputs": [
    {
     "data": {
      "text/html": [
       "<div style=\"max-height:1000px;max-width:1500px;overflow:auto;\">\n",
       "<table border=\"1\" class=\"dataframe\">\n",
       "  <thead>\n",
       "    <tr style=\"text-align: right;\">\n",
       "      <th></th>\n",
       "      <th>BoroCode</th>\n",
       "      <th>Shape_Area</th>\n",
       "      <th>Shape_Leng</th>\n",
       "      <th>geometry</th>\n",
       "      <th>inland_fraction</th>\n",
       "      <th>population</th>\n",
       "      <th>pop_density</th>\n",
       "    </tr>\n",
       "    <tr>\n",
       "      <th>BoroName</th>\n",
       "      <th></th>\n",
       "      <th></th>\n",
       "      <th></th>\n",
       "      <th></th>\n",
       "      <th></th>\n",
       "      <th></th>\n",
       "      <th></th>\n",
       "    </tr>\n",
       "  </thead>\n",
       "  <tbody>\n",
       "    <tr>\n",
       "      <th>Manhattan</th>\n",
       "      <td> 1</td>\n",
       "      <td> 6.364467e+08</td>\n",
       "      <td> 358408.460709</td>\n",
       "      <td> (POLYGON ((981219.0557861328 188655.3157958984...</td>\n",
       "      <td>  1.773574</td>\n",
       "      <td> 1585873</td>\n",
       "      <td> 69466.335981</td>\n",
       "    </tr>\n",
       "    <tr>\n",
       "      <th>Brooklyn</th>\n",
       "      <td> 3</td>\n",
       "      <td> 1.937597e+09</td>\n",
       "      <td> 741185.900596</td>\n",
       "      <td> (POLYGON ((1021176.479003906 151374.7969970703...</td>\n",
       "      <td> 34.636066</td>\n",
       "      <td> 2504700</td>\n",
       "      <td> 36037.963313</td>\n",
       "    </tr>\n",
       "    <tr>\n",
       "      <th>Bronx</th>\n",
       "      <td> 2</td>\n",
       "      <td> 1.186973e+09</td>\n",
       "      <td> 464400.198868</td>\n",
       "      <td> (POLYGON ((1012821.805786133 229228.2645874023...</td>\n",
       "      <td> 28.407326</td>\n",
       "      <td> 1385108</td>\n",
       "      <td> 32531.958243</td>\n",
       "    </tr>\n",
       "    <tr>\n",
       "      <th>Queens</th>\n",
       "      <td> 4</td>\n",
       "      <td> 3.045168e+09</td>\n",
       "      <td> 897040.298576</td>\n",
       "      <td> (POLYGON ((1029606.076599121 156073.8142089844...</td>\n",
       "      <td> 42.737251</td>\n",
       "      <td> 2230722</td>\n",
       "      <td> 20422.174910</td>\n",
       "    </tr>\n",
       "    <tr>\n",
       "      <th>Staten Island</th>\n",
       "      <td> 5</td>\n",
       "      <td> 1.623827e+09</td>\n",
       "      <td> 330466.075042</td>\n",
       "      <td> (POLYGON ((970217.0223999023 145643.3322143555...</td>\n",
       "      <td> 44.733620</td>\n",
       "      <td>  468730</td>\n",
       "      <td>  8047.300267</td>\n",
       "    </tr>\n",
       "  </tbody>\n",
       "</table>\n",
       "</div>"
      ],
      "text/plain": [
       "               BoroCode    Shape_Area     Shape_Leng  \\\n",
       "BoroName                                               \n",
       "Manhattan             1  6.364467e+08  358408.460709   \n",
       "Brooklyn              3  1.937597e+09  741185.900596   \n",
       "Bronx                 2  1.186973e+09  464400.198868   \n",
       "Queens                4  3.045168e+09  897040.298576   \n",
       "Staten Island         5  1.623827e+09  330466.075042   \n",
       "\n",
       "                                                        geometry  \\\n",
       "BoroName                                                           \n",
       "Manhattan      (POLYGON ((981219.0557861328 188655.3157958984...   \n",
       "Brooklyn       (POLYGON ((1021176.479003906 151374.7969970703...   \n",
       "Bronx          (POLYGON ((1012821.805786133 229228.2645874023...   \n",
       "Queens         (POLYGON ((1029606.076599121 156073.8142089844...   \n",
       "Staten Island  (POLYGON ((970217.0223999023 145643.3322143555...   \n",
       "\n",
       "               inland_fraction  population   pop_density  \n",
       "BoroName                                                  \n",
       "Manhattan             1.773574     1585873  69466.335981  \n",
       "Brooklyn             34.636066     2504700  36037.963313  \n",
       "Bronx                28.407326     1385108  32531.958243  \n",
       "Queens               42.737251     2230722  20422.174910  \n",
       "Staten Island        44.733620      468730   8047.300267  "
      ]
     },
     "execution_count": 16,
     "metadata": {},
     "output_type": "execute_result"
    }
   ],
   "source": [
    "boros.sort(columns='pop_density', ascending=False)"
   ]
  },
  {
   "cell_type": "code",
   "execution_count": 17,
   "metadata": {
    "collapsed": false
   },
   "outputs": [
    {
     "data": {
      "text/html": [
       "<div style=\"max-height:1000px;max-width:1500px;overflow:auto;\">\n",
       "<table border=\"1\" class=\"dataframe\">\n",
       "  <thead>\n",
       "    <tr style=\"text-align: right;\">\n",
       "      <th></th>\n",
       "      <th>BoroCode</th>\n",
       "      <th>Shape_Area</th>\n",
       "      <th>Shape_Leng</th>\n",
       "      <th>geometry</th>\n",
       "      <th>inland_fraction</th>\n",
       "      <th>population</th>\n",
       "      <th>pop_density</th>\n",
       "      <th>simplified</th>\n",
       "    </tr>\n",
       "    <tr>\n",
       "      <th>BoroName</th>\n",
       "      <th></th>\n",
       "      <th></th>\n",
       "      <th></th>\n",
       "      <th></th>\n",
       "      <th></th>\n",
       "      <th></th>\n",
       "      <th></th>\n",
       "      <th></th>\n",
       "    </tr>\n",
       "  </thead>\n",
       "  <tbody>\n",
       "    <tr>\n",
       "      <th>Manhattan</th>\n",
       "      <td> 1</td>\n",
       "      <td> 6.364467e+08</td>\n",
       "      <td> 358408.460709</td>\n",
       "      <td> (POLYGON ((981219.0557861328 188655.3157958984...</td>\n",
       "      <td>  1.773574</td>\n",
       "      <td> 1585873</td>\n",
       "      <td> 69466.335981</td>\n",
       "      <td> (POLYGON ((981219.0557861328 188655.3157958984...</td>\n",
       "    </tr>\n",
       "    <tr>\n",
       "      <th>Bronx</th>\n",
       "      <td> 2</td>\n",
       "      <td> 1.186973e+09</td>\n",
       "      <td> 464400.198868</td>\n",
       "      <td> (POLYGON ((1012821.805786133 229228.2645874023...</td>\n",
       "      <td> 28.407326</td>\n",
       "      <td> 1385108</td>\n",
       "      <td> 32531.958243</td>\n",
       "      <td> (POLYGON ((1012821.805786133 229228.2645874023...</td>\n",
       "    </tr>\n",
       "    <tr>\n",
       "      <th>Brooklyn</th>\n",
       "      <td> 3</td>\n",
       "      <td> 1.937597e+09</td>\n",
       "      <td> 741185.900596</td>\n",
       "      <td> (POLYGON ((1021176.479003906 151374.7969970703...</td>\n",
       "      <td> 34.636066</td>\n",
       "      <td> 2504700</td>\n",
       "      <td> 36037.963313</td>\n",
       "      <td> (POLYGON ((1021176.479003906 151374.7969970703...</td>\n",
       "    </tr>\n",
       "    <tr>\n",
       "      <th>Queens</th>\n",
       "      <td> 4</td>\n",
       "      <td> 3.045168e+09</td>\n",
       "      <td> 897040.298576</td>\n",
       "      <td> (POLYGON ((1029606.076599121 156073.8142089844...</td>\n",
       "      <td> 42.737251</td>\n",
       "      <td> 2230722</td>\n",
       "      <td> 20422.174910</td>\n",
       "      <td> (POLYGON ((1029606.076599121 156073.8142089844...</td>\n",
       "    </tr>\n",
       "    <tr>\n",
       "      <th>Staten Island</th>\n",
       "      <td> 5</td>\n",
       "      <td> 1.623827e+09</td>\n",
       "      <td> 330466.075042</td>\n",
       "      <td> (POLYGON ((970217.0223999023 145643.3322143555...</td>\n",
       "      <td> 44.733620</td>\n",
       "      <td>  468730</td>\n",
       "      <td>  8047.300267</td>\n",
       "      <td> (POLYGON ((970217.0223999023 145643.3322143555...</td>\n",
       "    </tr>\n",
       "  </tbody>\n",
       "</table>\n",
       "</div>"
      ],
      "text/plain": [
       "               BoroCode    Shape_Area     Shape_Leng  \\\n",
       "BoroName                                               \n",
       "Manhattan             1  6.364467e+08  358408.460709   \n",
       "Bronx                 2  1.186973e+09  464400.198868   \n",
       "Brooklyn              3  1.937597e+09  741185.900596   \n",
       "Queens                4  3.045168e+09  897040.298576   \n",
       "Staten Island         5  1.623827e+09  330466.075042   \n",
       "\n",
       "                                                        geometry  \\\n",
       "BoroName                                                           \n",
       "Manhattan      (POLYGON ((981219.0557861328 188655.3157958984...   \n",
       "Bronx          (POLYGON ((1012821.805786133 229228.2645874023...   \n",
       "Brooklyn       (POLYGON ((1021176.479003906 151374.7969970703...   \n",
       "Queens         (POLYGON ((1029606.076599121 156073.8142089844...   \n",
       "Staten Island  (POLYGON ((970217.0223999023 145643.3322143555...   \n",
       "\n",
       "               inland_fraction  population   pop_density  \\\n",
       "BoroName                                                   \n",
       "Manhattan             1.773574     1585873  69466.335981   \n",
       "Bronx                28.407326     1385108  32531.958243   \n",
       "Brooklyn             34.636066     2504700  36037.963313   \n",
       "Queens               42.737251     2230722  20422.174910   \n",
       "Staten Island        44.733620      468730   8047.300267   \n",
       "\n",
       "                                                      simplified  \n",
       "BoroName                                                          \n",
       "Manhattan      (POLYGON ((981219.0557861328 188655.3157958984...  \n",
       "Bronx          (POLYGON ((1012821.805786133 229228.2645874023...  \n",
       "Brooklyn       (POLYGON ((1021176.479003906 151374.7969970703...  \n",
       "Queens         (POLYGON ((1029606.076599121 156073.8142089844...  \n",
       "Staten Island  (POLYGON ((970217.0223999023 145643.3322143555...  "
      ]
     },
     "execution_count": 17,
     "metadata": {},
     "output_type": "execute_result"
    }
   ],
   "source": [
    "boros['simplified'] = boros.geometry.simplify(1000)\n",
    "boros"
   ]
  },
  {
   "cell_type": "code",
   "execution_count": 18,
   "metadata": {
    "collapsed": false
   },
   "outputs": [
    {
     "data": {
      "text/html": [
       "<div style=\"max-height:1000px;max-width:1500px;overflow:auto;\">\n",
       "<table border=\"1\" class=\"dataframe\">\n",
       "  <thead>\n",
       "    <tr style=\"text-align: right;\">\n",
       "      <th></th>\n",
       "      <th>BoroCode</th>\n",
       "      <th>Shape_Area</th>\n",
       "      <th>Shape_Leng</th>\n",
       "      <th>geometry</th>\n",
       "      <th>inland_fraction</th>\n",
       "      <th>population</th>\n",
       "      <th>pop_density</th>\n",
       "      <th>simplified</th>\n",
       "    </tr>\n",
       "    <tr>\n",
       "      <th>BoroName</th>\n",
       "      <th></th>\n",
       "      <th></th>\n",
       "      <th></th>\n",
       "      <th></th>\n",
       "      <th></th>\n",
       "      <th></th>\n",
       "      <th></th>\n",
       "      <th></th>\n",
       "    </tr>\n",
       "  </thead>\n",
       "  <tbody>\n",
       "    <tr>\n",
       "      <th>Manhattan</th>\n",
       "      <td> 1</td>\n",
       "      <td> 6.364467e+08</td>\n",
       "      <td> 358408.460709</td>\n",
       "      <td> (POLYGON ((981219.0557861328 188655.3157958984...</td>\n",
       "      <td>  1.773574</td>\n",
       "      <td> 1585873</td>\n",
       "      <td> 69466.335981</td>\n",
       "      <td> (POLYGON ((981219.0557861328 188655.3157958984...</td>\n",
       "    </tr>\n",
       "    <tr>\n",
       "      <th>Bronx</th>\n",
       "      <td> 2</td>\n",
       "      <td> 1.186973e+09</td>\n",
       "      <td> 464400.198868</td>\n",
       "      <td> (POLYGON ((1012821.805786133 229228.2645874023...</td>\n",
       "      <td> 28.407326</td>\n",
       "      <td> 1385108</td>\n",
       "      <td> 32531.958243</td>\n",
       "      <td> (POLYGON ((1012821.805786133 229228.2645874023...</td>\n",
       "    </tr>\n",
       "    <tr>\n",
       "      <th>Brooklyn</th>\n",
       "      <td> 3</td>\n",
       "      <td> 1.937597e+09</td>\n",
       "      <td> 741185.900596</td>\n",
       "      <td> (POLYGON ((1021176.479003906 151374.7969970703...</td>\n",
       "      <td> 34.636066</td>\n",
       "      <td> 2504700</td>\n",
       "      <td> 36037.963313</td>\n",
       "      <td> (POLYGON ((1021176.479003906 151374.7969970703...</td>\n",
       "    </tr>\n",
       "    <tr>\n",
       "      <th>Queens</th>\n",
       "      <td> 4</td>\n",
       "      <td> 3.045168e+09</td>\n",
       "      <td> 897040.298576</td>\n",
       "      <td> (POLYGON ((1029606.076599121 156073.8142089844...</td>\n",
       "      <td> 42.737251</td>\n",
       "      <td> 2230722</td>\n",
       "      <td> 20422.174910</td>\n",
       "      <td> (POLYGON ((1029606.076599121 156073.8142089844...</td>\n",
       "    </tr>\n",
       "    <tr>\n",
       "      <th>Staten Island</th>\n",
       "      <td> 5</td>\n",
       "      <td> 1.623827e+09</td>\n",
       "      <td> 330466.075042</td>\n",
       "      <td> (POLYGON ((970217.0223999023 145643.3322143555...</td>\n",
       "      <td> 44.733620</td>\n",
       "      <td>  468730</td>\n",
       "      <td>  8047.300267</td>\n",
       "      <td> (POLYGON ((970217.0223999023 145643.3322143555...</td>\n",
       "    </tr>\n",
       "  </tbody>\n",
       "</table>\n",
       "</div>"
      ],
      "text/plain": [
       "               BoroCode    Shape_Area     Shape_Leng  \\\n",
       "BoroName                                               \n",
       "Manhattan             1  6.364467e+08  358408.460709   \n",
       "Bronx                 2  1.186973e+09  464400.198868   \n",
       "Brooklyn              3  1.937597e+09  741185.900596   \n",
       "Queens                4  3.045168e+09  897040.298576   \n",
       "Staten Island         5  1.623827e+09  330466.075042   \n",
       "\n",
       "                                                        geometry  \\\n",
       "BoroName                                                           \n",
       "Manhattan      (POLYGON ((981219.0557861328 188655.3157958984...   \n",
       "Bronx          (POLYGON ((1012821.805786133 229228.2645874023...   \n",
       "Brooklyn       (POLYGON ((1021176.479003906 151374.7969970703...   \n",
       "Queens         (POLYGON ((1029606.076599121 156073.8142089844...   \n",
       "Staten Island  (POLYGON ((970217.0223999023 145643.3322143555...   \n",
       "\n",
       "               inland_fraction  population   pop_density  \\\n",
       "BoroName                                                   \n",
       "Manhattan             1.773574     1585873  69466.335981   \n",
       "Bronx                28.407326     1385108  32531.958243   \n",
       "Brooklyn             34.636066     2504700  36037.963313   \n",
       "Queens               42.737251     2230722  20422.174910   \n",
       "Staten Island        44.733620      468730   8047.300267   \n",
       "\n",
       "                                                      simplified  \n",
       "BoroName                                                          \n",
       "Manhattan      (POLYGON ((981219.0557861328 188655.3157958984...  \n",
       "Bronx          (POLYGON ((1012821.805786133 229228.2645874023...  \n",
       "Brooklyn       (POLYGON ((1021176.479003906 151374.7969970703...  \n",
       "Queens         (POLYGON ((1029606.076599121 156073.8142089844...  \n",
       "Staten Island  (POLYGON ((970217.0223999023 145643.3322143555...  "
      ]
     },
     "execution_count": 18,
     "metadata": {},
     "output_type": "execute_result"
    }
   ],
   "source": [
    "boros.set_geometry('simplified', inplace=True)\n",
    "boros"
   ]
  },
  {
   "cell_type": "code",
   "execution_count": 19,
   "metadata": {
    "collapsed": false
   },
   "outputs": [
    {
     "data": {
      "text/plain": [
       "'simplified'"
      ]
     },
     "execution_count": 19,
     "metadata": {},
     "output_type": "execute_result"
    }
   ],
   "source": [
    "boros._geometry_column_name"
   ]
  },
  {
   "cell_type": "code",
   "execution_count": 20,
   "metadata": {
    "collapsed": false
   },
   "outputs": [
    {
     "data": {
      "text/plain": [
       "<matplotlib.axes._subplots.AxesSubplot at 0x1177797d0>"
      ]
     },
     "execution_count": 20,
     "metadata": {},
     "output_type": "execute_result"
    },
    {
     "data": {
      "image/png": "[encoded data removed]",
      "text/plain": [
       "<matplotlib.figure.Figure at 0x1177e9710>"
      ]
     },
     "metadata": {},
     "output_type": "display_data"
    }
   ],
   "source": [
    "boros.plot()"
   ]
  }
 ],
 "metadata": {
  "kernelspec": {
   "display_name": "Python 2",
   "language": "python",
   "name": "python2"
  },
  "language_info": {
   "name": "python",
   "version": "2.7.9"
  }
 },
 "nbformat": 4,
 "nbformat_minor": 0
}
